{
  "cells": [
    {
      "cell_type": "code",
      "execution_count": 15,
      "metadata": {
        "id": "i0RzT795BvM0"
      },
      "outputs": [],
      "source": [
        "import numpy as np\n",
        "import os\n",
        "import xml.etree\n"
      ]
    },
    {
      "cell_type": "code",
      "execution_count": 16,
      "metadata": {
        "colab": {
          "base_uri": "https://localhost:8080/",
          "height": 356
        },
        "id": "5YDKatOyCPu7",
        "outputId": "b7cc34d2-909b-4f65-bdf1-8421853710d1"
      },
      "outputs": [],
      "source": [
        "import mrcnn.utils\n",
        "import mrcnn.config\n",
        "import mrcnn.model"
      ]
    },
    {
      "cell_type": "code",
      "execution_count": 17,
      "metadata": {},
      "outputs": [],
      "source": [
        "class TomatoDataset(mrcnn.utils.Dataset):\n",
        "\n",
        "    def load_dataset(self, dataset_dir, is_train=True):\n",
        "        self.add_class(\"dataset\", 1, \"tomato\")\n",
        "        images_dir = dataset_dir + '/images/'\n",
        "        annotations_dir = dataset_dir + '/annots/'\n",
        "        for filename in os.listdir(images_dir):\n",
        "            image_id = filename[:-4]\n",
        "\n",
        "            if is_train and int(image_id) >= 700:\n",
        "                continue\n",
        "\n",
        "            if not is_train and int(image_id) < 700:\n",
        "                continue\n",
        "\n",
        "            img_path = images_dir + filename\n",
        "            ann_path = annotations_dir + image_id + '.xml'\n",
        "\n",
        "            self.add_image('dataset', image_id=image_id, path=img_path, annotation=ann_path)\n",
        "        \n",
        "    def load_mask(self, image_id):\n",
        "        info = self.image_info[image_id]\n",
        "        path = info['annotation']\n",
        "        boxes, w, h = self.extract_boxes(path)\n",
        "        masks = np.zeros([h, w, len(boxes)], dtype='uint8')\n",
        "\n",
        "        class_ids = list()\n",
        "        for i in range(len(boxes)):\n",
        "            box = boxes[i]\n",
        "            row_s, row_e = box[1], box[3]\n",
        "            col_s, col_e = box[0], box[2]\n",
        "            masks[row_s:row_e, col_s:col_e, i] = 1\n",
        "            class_ids.append(self.class_names.index('tomato'))\n",
        "        return masks, np.asarray(class_ids, dtype='int32')\n",
        "    \n",
        "    def extract_boxes(self, filename):\n",
        "        tree = xml.etree.ElementTree.parse(filename)\n",
        "\n",
        "        root = tree.getroot()\n",
        "\n",
        "        boxes = list()\n",
        "        for box in root.findall('.//bndbox'):\n",
        "            xmin = int(box.find('xmin').text)\n",
        "            ymin = int(box.find('ymin').text)\n",
        "            xmax = int(box.find('xmax').text)\n",
        "            ymax = int(box.find('ymax').text)\n",
        "            coors = [xmin, ymin, xmax, ymax]\n",
        "            boxes.append(coors)\n",
        "\n",
        "        width = int(root.find('.//size/width').text)\n",
        "        height = int(root.find('.//size/height').text)\n",
        "        return boxes, width, height\n"
      ]
    },
    {
      "cell_type": "code",
      "execution_count": 18,
      "metadata": {},
      "outputs": [],
      "source": [
        "class tomatoConfig(mrcnn.config.Config):\n",
        "    NAME = \"tomato_cfg\"\n",
        "\n",
        "    GPU_COUNT = 1\n",
        "    IMAGES_PER_GPU = 1\n",
        "    \n",
        "    NUM_CLASSES = 2\n",
        "\n",
        "    STEPS_PER_EPOCH = 100"
      ]
    }
  ],
  "metadata": {
    "colab": {
      "provenance": []
    },
    "kernelspec": {
      "display_name": "venv",
      "language": "python",
      "name": "python3"
    },
    "language_info": {
      "codemirror_mode": {
        "name": "ipython",
        "version": 3
      },
      "file_extension": ".py",
      "mimetype": "text/x-python",
      "name": "python",
      "nbconvert_exporter": "python",
      "pygments_lexer": "ipython3",
      "version": "3.10.10"
    },
    "orig_nbformat": 4,
    "vscode": {
      "interpreter": {
        "hash": "0873af60a640eab62d0734387301b692c1f2496dd76313accfbcee25ccdf7e65"
      }
    }
  },
  "nbformat": 4,
  "nbformat_minor": 0
}
